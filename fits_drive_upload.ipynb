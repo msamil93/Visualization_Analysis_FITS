{
  "nbformat": 4,
  "nbformat_minor": 0,
  "metadata": {
    "colab": {
      "provenance": []
    },
    "kernelspec": {
      "name": "python3",
      "display_name": "Python 3"
    },
    "language_info": {
      "name": "python"
    }
  },
  "cells": [
    {
      "cell_type": "code",
      "execution_count": null,
      "metadata": {
        "colab": {
          "base_uri": "https://localhost:8080/"
        },
        "id": "E_ZduC9FFFVk",
        "outputId": "15478437-50d9-46d2-8ca7-a101b5acf0ef"
      },
      "outputs": [
        {
          "output_type": "stream",
          "name": "stdout",
          "text": [
            "Mounted at /content/drive\n"
          ]
        }
      ],
      "source": [
        "from google.colab import drive\n",
        "from astropy.io import fits\n",
        "import matplotlib.pyplot as plt\n",
        "import os\n",
        "\n",
        "\n",
        "drive.mount('/content/drive')\n",
        "\n",
        "hdulist = fits.open(\"/content/drive/MyDrive/fits_proj/MC-100_new.fits\")\n",
        "data = hdulist[0].data\n",
        "\n",
        "\n",
        "directory = \"/content/drive/MyDrive/fits_proj/MC-100_new_images\"\n",
        "if not os.path.exists(directory):\n",
        "    os.makedirs(directory)\n",
        "\n",
        "\n",
        "for i in range(data.shape[0]):\n",
        "    plt.figure()\n",
        "\n",
        "\n",
        "    plt.axis('off')\n",
        "\n",
        "    plt.imshow(data[i, :, :], origin='lower', cmap='viridis')\n",
        "\n",
        "    plt.savefig(f\"{directory}/image_{i}.png\", bbox_inches='tight', pad_inches=0)\n",
        "\n",
        "    plt.close()\n"
      ]
    }
  ]
}